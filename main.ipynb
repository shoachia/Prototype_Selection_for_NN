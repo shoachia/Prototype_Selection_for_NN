{
 "cells": [
  {
   "cell_type": "code",
   "execution_count": 1,
   "metadata": {},
   "outputs": [],
   "source": [
    "import numpy as np\n",
    "from mnist import MNIST\n",
    "import matplotlib.pyplot as plt\n",
    "import random\n",
    "mndata = MNIST('/home/shoachia/Documents/CSE250B/mnist')"
   ]
  },
  {
   "cell_type": "code",
   "execution_count": 2,
   "metadata": {},
   "outputs": [],
   "source": [
    "train_images, train_labels = mndata.load_training()\n",
    "test_images, test_labels = mndata.load_testing()\n",
    "train_images = np.array(train_images)\n",
    "train_labels = np.array(train_labels)\n",
    "test_images = np.array(test_images) \n",
    "test_labels = np.array(test_labels)"
   ]
  },
  {
   "cell_type": "markdown",
   "metadata": {},
   "source": [
    "## Check the mnist data distribution (whether balanced)"
   ]
  },
  {
   "cell_type": "code",
   "execution_count": 3,
   "metadata": {},
   "outputs": [],
   "source": [
    "def distribution(train_L,N):\n",
    "    train_dis = np.zeros((N,1))\n",
    "    for num in range (len(train_L)):\n",
    "        train_dis[train_L[num]] += 1\n",
    "    return train_dis"
   ]
  },
  {
   "cell_type": "code",
   "execution_count": 4,
   "metadata": {},
   "outputs": [
    {
     "name": "stdout",
     "output_type": "stream",
     "text": [
      "[[5923.]\n",
      " [6742.]\n",
      " [5958.]\n",
      " [6131.]\n",
      " [5842.]\n",
      " [5421.]\n",
      " [5918.]\n",
      " [6265.]\n",
      " [5851.]\n",
      " [5949.]]\n"
     ]
    }
   ],
   "source": [
    "ori_dis = distribution(train_labels,10)\n",
    "print(ori_dis)"
   ]
  },
  {
   "cell_type": "markdown",
   "metadata": {},
   "source": [
    "## 1-NN "
   ]
  },
  {
   "cell_type": "code",
   "execution_count": 5,
   "metadata": {},
   "outputs": [],
   "source": [
    "# 1-NN brute-force\n",
    "def KNN (train_I, train_L,test_I):\n",
    "    test_L = np.zeros((len(test_I),1))\n",
    "    for i in range(len(test_I)):\n",
    "        dist = np.sum(np.power(train_I - test_I[i],2),axis = 1)\n",
    "        # finding the argmin --> ignore doing sqrt to save some time\n",
    "        idx = np.argmin(dist)\n",
    "        test_L[i] = train_L[idx]\n",
    "    return test_L"
   ]
  },
  {
   "cell_type": "code",
   "execution_count": 6,
   "metadata": {},
   "outputs": [],
   "source": [
    "# Caculate the error rate \n",
    "def err(pre,test_L):\n",
    "    all_set = distribution(test_L,10)\n",
    "    prob = all_set / len(test_L)\n",
    "    #print(all_set)\n",
    "    each_err = distribution(test_L,10)\n",
    "    for i in range(len(pre)):\n",
    "        if pre[i] != test_L[i]:\n",
    "            each_err[test_L[i]] -= 1\n",
    "    #print(each_err)\n",
    "    each_err = (all_set - each_err) / all_set\n",
    "    all_err = np.sum(each_err * prob)\n",
    "    return each_err, all_err"
   ]
  },
  {
   "cell_type": "code",
   "execution_count": 7,
   "metadata": {},
   "outputs": [],
   "source": [
    "from sklearn.neighbors import KNeighborsClassifier\n",
    "def built_KNN(train_I, train_L,test_I):\n",
    "    neigh = KNeighborsClassifier(n_neighbors = 1)\n",
    "    neigh.fit(train_I, train_L)\n",
    "    return neigh.predict(test_I)"
   ]
  },
  {
   "cell_type": "markdown",
   "metadata": {},
   "source": [
    "## Random Selection Data Size Reduction"
   ]
  },
  {
   "cell_type": "code",
   "execution_count": 8,
   "metadata": {},
   "outputs": [],
   "source": [
    "def randselect(train_I,train_L,M):\n",
    "    rand_idx = random.sample(range(0, len(train_L)), M)\n",
    "    rand_idx = sorted(rand_idx)\n",
    "    ret_L = np.reshape(train_L[rand_idx],(M,1)) \n",
    "    return train_I[rand_idx], ret_L"
   ]
  },
  {
   "cell_type": "code",
   "execution_count": 9,
   "metadata": {},
   "outputs": [
    {
     "name": "stderr",
     "output_type": "stream",
     "text": [
      "/home/shoachia/anaconda3/lib/python3.7/site-packages/ipykernel_launcher.py:4: DataConversionWarning: A column-vector y was passed when a 1d array was expected. Please change the shape of y to (n_samples, ), for example using ravel().\n",
      "  after removing the cwd from sys.path.\n"
     ]
    },
    {
     "name": "stdout",
     "output_type": "stream",
     "text": [
      "0.0652\n",
      "0.0659\n",
      "0.0643\n",
      "0.0664\n",
      "0.0628\n"
     ]
    }
   ],
   "source": [
    "for times in range(5):\n",
    "    train_images_rand, train_labels_rand = randselect(train_images,train_labels,5000)\n",
    "    predict_rand = built_KNN(train_images_rand,train_labels_rand,test_images)\n",
    "    error_rate_rand, all_error_rate_rand = err(predict_rand,test_labels)\n",
    "    #print(error_rate_rand)\n",
    "    print(all_error_rate_rand)"
   ]
  },
  {
   "cell_type": "markdown",
   "metadata": {},
   "source": [
    "### Random selection\n",
    "\n",
    "#### M = 500\n",
    "* 0.1461\n",
    "* 0.1516\n",
    "* 0.1610\n",
    "* 0.1618 \n",
    "* 0.1494\n",
    "---\n",
    "* 0.1539\n",
    "\n",
    "#### M = 800\n",
    "\n",
    "* 0.1257\n",
    "* 0.1272\n",
    "* 0.1272\n",
    "* 0.1294\n",
    "* 0.1274\n",
    "---\n",
    "* 0.12738\n",
    "\n",
    "#### M = 1000\n",
    "\n",
    "* 0.1139\n",
    "* 0.1220\n",
    "* 0.1187\n",
    "* 0.1138\n",
    "* 0.1167\n",
    "---\n",
    "* 0.1170\n",
    "\n",
    "#### M = 2000\n",
    "\n",
    "* 0.0879\n",
    "* 0.0936\n",
    "* 0.0888\n",
    "* 0.0871\n",
    "* 0.0876\n",
    "---\n",
    "* 0.0890\n",
    "\n",
    "#### M = 5000\n",
    "\n",
    "* 0.0640\n",
    "* 0.0639\n",
    "* 0.0615\n",
    "* 0.0651\n",
    "* 0.0654\n",
    "---\n",
    "* 0.06398\n",
    "\n",
    "#### M = 10000\n",
    "* 0.05490\n",
    "* 0.05289\n",
    "* 0.0543\n",
    "* 0.0511\n",
    "* 0.0533\n",
    "---\n",
    "* 0.05329"
   ]
  },
  {
   "cell_type": "markdown",
   "metadata": {},
   "source": [
    "## Prototype selection of Data"
   ]
  },
  {
   "cell_type": "markdown",
   "metadata": {},
   "source": [
    "### k means\n"
   ]
  },
  {
   "cell_type": "code",
   "execution_count": 10,
   "metadata": {},
   "outputs": [],
   "source": [
    "from sklearn.cluster import KMeans\n",
    "\n",
    "# sorted the dataset to be from label 9 to label 0\n",
    "train_labels_inds = train_labels.argsort()\n",
    "sorted_train_labels = train_labels[train_labels_inds[::1]]\n",
    "sorted_train_images = train_images[train_labels_inds[::1]]"
   ]
  },
  {
   "cell_type": "code",
   "execution_count": 11,
   "metadata": {},
   "outputs": [],
   "source": [
    "def randompick (train_I,M):\n",
    "    rand_idx = random.sample(range(0, len(train_I)), M)\n",
    "    rand_idx = sorted(rand_idx)\n",
    "    return train_I[rand_idx]"
   ]
  },
  {
   "cell_type": "code",
   "execution_count": 12,
   "metadata": {},
   "outputs": [],
   "source": [
    "def mean_sur (train_I,M):\n",
    "    mean_feature = np.mean(train_I,axis = 0)\n",
    "    dist = np.sum(np.power(train_I - mean_feature,2), axis = 1)\n",
    "    idx = dist.argsort()\n",
    "    return train_I[idx[0:M]]"
   ]
  },
  {
   "cell_type": "code",
   "execution_count": 13,
   "metadata": {},
   "outputs": [],
   "source": [
    "def get_new_data(sort_labels,sort_images,M,N):\n",
    "    ret_images = np.zeros((M,784))\n",
    "    ret_labels = np.zeros((M,1))\n",
    "    pick = (int)(M/(10*N))\n",
    "    for j in range(10):\n",
    "        for p in range((int)(M/10)):\n",
    "            ret_labels[(int)(j*(M/10)+p)] = j\n",
    "    class_dis = distribution(sort_labels,10)\n",
    "    # choose points from each class\n",
    "    cnt = 0\n",
    "    start = 0\n",
    "    end = 0\n",
    "    for c in range(10):\n",
    "        end += (int)(class_dis[c])\n",
    "        #get the array in each class\n",
    "        tmp_images = sort_images[start:end]\n",
    "        kmeans_tmp = KMeans(n_clusters = N, random_state=0).fit(tmp_images)\n",
    "        tmp_labels = kmeans_tmp.labels_\n",
    "        tmp_labels_idx = tmp_labels.argsort()\n",
    "        sort_tmp_labels = tmp_labels[tmp_labels_idx[::1]]\n",
    "        sort_tmp_images = tmp_images[tmp_labels_idx[::1]]\n",
    "        tmp_dis = distribution(sort_tmp_labels,N)\n",
    "        #print(tmp_dis)\n",
    "        start = end\n",
    "        small_start = 0\n",
    "        small_end = 0\n",
    "        for small_class in range(N):\n",
    "            small_end += (int)(tmp_dis[small_class]) \n",
    "            # get the array in each small class\n",
    "            small_tmp_images = sort_tmp_images[small_start:small_end]\n",
    "            #print(np.shape(small_tmp_images))\n",
    "            \n",
    "            ## Maybe should pick the points that sorrounded the mean point\n",
    "            ret_images[cnt:cnt+pick] = mean_sur(small_tmp_images,pick)\n",
    "            ret_labels[cnt:cnt+pick] = np.full((pick,1),c)\n",
    "            cnt += pick\n",
    "            small_start = small_end\n",
    "    # To complement the needed data\n",
    "    if cnt < M:\n",
    "        ret_images[cnt:M],ret_labels[cnt:M] = randselect(sort_images,sort_labels,M-cnt)\n",
    "        \n",
    "    return ret_images, ret_labels"
   ]
  },
  {
   "cell_type": "code",
   "execution_count": 14,
   "metadata": {},
   "outputs": [
    {
     "name": "stderr",
     "output_type": "stream",
     "text": [
      "/home/shoachia/anaconda3/lib/python3.7/site-packages/ipykernel_launcher.py:4: DataConversionWarning: A column-vector y was passed when a 1d array was expected. Please change the shape of y to (n_samples, ), for example using ravel().\n",
      "  after removing the cwd from sys.path.\n"
     ]
    },
    {
     "name": "stdout",
     "output_type": "stream",
     "text": [
      "0.063\n",
      "0.0635\n",
      "0.0632\n",
      "0.0635\n",
      "0.0624\n"
     ]
    }
   ],
   "source": [
    "for t in range(5):\n",
    "    red_images, red_labels = get_new_data(sorted_train_labels,sorted_train_images,5000,15) \n",
    "    predict_kmeans = built_KNN(red_images,red_labels,test_images)\n",
    "    error_rate_kmeans, all_err_rate_kmeans = err(predict_kmeans,test_labels)\n",
    "    #print(error_rate_kmeans)\n",
    "    print(all_err_rate_kmeans)"
   ]
  },
  {
   "cell_type": "markdown",
   "metadata": {},
   "source": [
    "### My Selection\n",
    "\n",
    "#### M = 500\n",
    "* 0.09890\n",
    "* 0.09980\n",
    "* 0.09800\n",
    "* 0.09830\n",
    "* 0.09970\n",
    "---\n",
    "* 0.09894\n",
    "\n",
    "#### M = 800\n",
    "* 0.08889\n",
    "* 0.08940\n",
    "* 0.08830\n",
    "* 0.08740\n",
    "* 0.08880\n",
    "---\n",
    "* 0.08855\n",
    "\n",
    "#### M = 1000\n",
    "\n",
    "* 0.08499\n",
    "* 0.08429\n",
    "* 0.08630\n",
    "* 0.08480\n",
    "* 0.08800\n",
    "--------------\n",
    "* 0.08567\n",
    "\n",
    "#### M = 2000\n",
    "\n",
    "* 0.07390\n",
    "* 0.07570\n",
    "* 0.07400\n",
    "* 0.07360\n",
    "* 0.07370\n",
    "---\n",
    "* 0.07418\n",
    "\n",
    "#### M = 5000\n",
    "\n",
    "* 0.063\n",
    "* 0.0635\n",
    "* 0.0632\n",
    "* 0.0635\n",
    "* 0.0624\n",
    "---\n",
    "* 0.0631\n",
    "\n",
    "#### M = 10000\n",
    "\n",
    "* 0.0563\n",
    "* 0.0563\n",
    "* 0.0564\n",
    "* 0.0565\n",
    "* 0.0556\n",
    "---\n",
    "* 0.05622\n"
   ]
  },
  {
   "cell_type": "code",
   "execution_count": 15,
   "metadata": {},
   "outputs": [],
   "source": [
    "import matplotlib.pyplot as plt"
   ]
  },
  {
   "cell_type": "code",
   "execution_count": 16,
   "metadata": {},
   "outputs": [
    {
     "name": "stdout",
     "output_type": "stream",
     "text": [
      "[3.]\n"
     ]
    },
    {
     "data": {
      "image/png": "[encoded data removed]",
      "text/plain": [
       "<Figure size 432x288 with 1 Axes>"
      ]
     },
     "metadata": {
      "needs_background": "light"
     },
     "output_type": "display_data"
    }
   ],
   "source": [
    "X = 1504\n",
    "plt.imshow(np.reshape(red_images[X],(28,28)))\n",
    "print(red_labels[X])"
   ]
  },
  {
   "cell_type": "code",
   "execution_count": 17,
   "metadata": {},
   "outputs": [
    {
     "data": {
      "text/plain": [
       "<matplotlib.image.AxesImage at 0x7fcfe20f85f8>"
      ]
     },
     "execution_count": 17,
     "metadata": {},
     "output_type": "execute_result"
    },
    {
     "data": {
      "image/png": "[encoded data removed]",
      "text/plain": [
       "<Figure size 432x288 with 1 Axes>"
      ]
     },
     "metadata": {
      "needs_background": "light"
     },
     "output_type": "display_data"
    }
   ],
   "source": [
    "plt.imshow(np.reshape(red_images[41],(28,28)))"
   ]
  },
  {
   "cell_type": "code",
   "execution_count": null,
   "metadata": {},
   "outputs": [],
   "source": []
  }
 ],
 "metadata": {
  "kernelspec": {
   "display_name": "Python 3",
   "language": "python",
   "name": "python3"
  },
  "language_info": {
   "codemirror_mode": {
    "name": "ipython",
    "version": 3
   },
   "file_extension": ".py",
   "mimetype": "text/x-python",
   "name": "python",
   "nbconvert_exporter": "python",
   "pygments_lexer": "ipython3",
   "version": "3.7.0"
  }
 },
 "nbformat": 4,
 "nbformat_minor": 2
}
